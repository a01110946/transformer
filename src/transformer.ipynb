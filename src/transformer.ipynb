{
  "cells": [
    {
      "cell_type": "markdown",
      "metadata": {
        "id": "view-in-github",
        "colab_type": "text"
      },
      "source": [
        "<a href=\"https://colab.research.google.com/github/a01110946/transformer/blob/main/src/transformer.ipynb\" target=\"_parent\"><img src=\"https://colab.research.google.com/assets/colab-badge.svg\" alt=\"Open In Colab\"/></a>"
      ]
    },
    {
      "cell_type": "markdown",
      "source": [
        "# Attention is all you need"
      ],
      "metadata": {
        "id": "RyTx-I3nXVNy"
      }
    },
    {
      "cell_type": "code",
      "source": [
        "# Import all the required libraries\n",
        "\n",
        "import torch\n",
        "import torch.nn as nn\n",
        "import torch.nn.functional as F\n",
        "import torch.optim as optim\n",
        "from torch.utils.data import Dataset\n",
        "from torch.utils.data import DataLoader\n",
        "from collections import Counter\n",
        "import math\n",
        "import numpy as np\n",
        "import re"
      ],
      "metadata": {
        "id": "bx6RLwqjXbwj"
      },
      "execution_count": 87,
      "outputs": []
    },
    {
      "cell_type": "code",
      "source": [
        "torch.manual_seed(23)\n",
        "\n",
        "device = torch.device('cuda' if torch.cuda.is_available() else 'cpu')\n",
        "print(device)"
      ],
      "metadata": {
        "id": "exptPwZLX_br",
        "outputId": "2e8a9c3f-0a9d-4522-f612-8cbf78d8ad89",
        "colab": {
          "base_uri": "https://localhost:8080/"
        }
      },
      "execution_count": 88,
      "outputs": [
        {
          "output_type": "stream",
          "name": "stdout",
          "text": [
            "cpu\n"
          ]
        }
      ]
    },
    {
      "cell_type": "code",
      "source": [
        "# Define your constants\n",
        "\n",
        "MAX_SEQ_LEN = 30"
      ],
      "metadata": {
        "id": "UeB4scWkY6fk"
      },
      "execution_count": 89,
      "outputs": []
    },
    {
      "cell_type": "code",
      "source": [
        "class PositionalEncoding(nn.Module):\n",
        "  def __init__(self, d_model, max_seq_len=MAX_SEQ_LEN):\n",
        "    super().__init__()\n",
        "    self.pos_embed_matrix = torch.zeros(max_seq_len, d_model, device=device)\n",
        "    token_pos = torch.arange(0, max_seq_len, dtype = torch.float).unsqueeze(1)\n",
        "    div_term = torch.exp(torch.arange(0, d_model, 2).float()\n",
        "                         * (-math.log(10000.0)/d_model))\n",
        "    self.pos_embed_matrix[:, 0::2] = torch.sin(token_pos * div_term)\n",
        "    self.pos_embed_matrix[:, 1::2] = torch.cos(token_pos * div_term)\n",
        "    self.pos_embed_matrix = self.pos_embed_matrix.unsqueeze(0).transpose(0, 1)\n",
        "\n",
        "  def forward(self, x):\n",
        "    return x + self.pos_embed_matrix[:x.size(0), :]"
      ],
      "metadata": {
        "id": "RNA2zqggtNQX"
      },
      "execution_count": 90,
      "outputs": []
    },
    {
      "cell_type": "code",
      "source": [
        "class MultiHeadAttention(nn.Module):\n",
        "  def __init__(self, d_model = 512, num_heads = 8):\n",
        "    super().__init__()\n",
        "    assert d_model % num_heads == 0, \"d_model must be divisible by num_heads\"\n",
        "\n",
        "    self.d_v = d_model // num_heads\n",
        "    self.d_k = self.d_v\n",
        "    self.num_heads = num_heads\n",
        "\n",
        "    self.W_q = nn.Linear(d_model, d_model) # Query matrix\n",
        "    self.W_k = nn.Linear(d_model, d_model) # Key matrix\n",
        "    self.W_v = nn.Linear(d_model, d_model) # Value matrix\n",
        "    self.W_o = nn.Linear(d_model, d_model) # Output matrix\n",
        "\n",
        "  def forward(self, Q, K, V, mask=None):\n",
        "    batch_size = Q.size(0)\n",
        "    '''\n",
        "    Q, K, V -> [batch_size, seq_len, num_heads*d_k]\n",
        "    After transpose, Q, K, V -> [batch_size, num_heads, seq_len, d_k]\n",
        "    '''\n",
        "    Q = self.W_q(Q).view(batch_size, -1, self.num_heads, self.d_k).transpose(1, 2)\n",
        "    K = self.W_k(K).view(batch_size, -1, self.num_heads, self.d_k).transpose(1, 2)\n",
        "    V = self.W_v(V).view(batch_size, -1, self.num_heads, self.d_k).transpose(1, 2)\n",
        "\n",
        "    weighted_values, attention = self.scale_dot_product_attention(Q, K, V, mask=None)\n",
        "    weighted_values = weighted_values.transpose(1, 2).contiguous().view(batch_size, -1, self.num_heads * self.d_k)\n",
        "    weighted_values = self.W_o(weighted_values)\n",
        "    return weighted_values, attention\n",
        "\n",
        "  def scale_dot_product_attention(self, Q, K, V, mask=None):\n",
        "    scores = torch.matmul(Q, K.transpose(-2, -1)) / math.sqrt(self.d_k)\n",
        "    if mask is not None:\n",
        "      scores = scores.masked_fill(mask == 0, -1e9)\n",
        "    attention = F.softmax(scores, dim=-1)\n",
        "    weighted_values = torch.matmul(attention, V)\n",
        "    return weighted_values, attention\n"
      ],
      "metadata": {
        "id": "qtqKSLKpJn2b"
      },
      "execution_count": 91,
      "outputs": []
    },
    {
      "cell_type": "code",
      "source": [
        "class PositionwiseFeedForward(nn.Module):\n",
        "  def __init__(self, d_model = 512, d_ff = 2048):\n",
        "    super().__init__()\n",
        "    self.linear1 = nn.Linear(d_model, d_ff)\n",
        "    self.linear2 = nn.Linear(d_ff, d_model)\n",
        "  def forward(self, x):\n",
        "    x = F.relu(self.linear1(x))\n",
        "    x = self.linear2(x)\n",
        "    return x"
      ],
      "metadata": {
        "id": "mdRB8Jg3v4Nm"
      },
      "execution_count": 92,
      "outputs": []
    },
    {
      "cell_type": "code",
      "source": [
        "class EncoderSublayer(nn.Module):\n",
        "  def __init__(self, d_model, num_heads, d_ff, dropout=0.1):\n",
        "    super().__init__()\n",
        "    self.self_attn = MultiHeadAttention(d_model, num_heads)\n",
        "    self.feed_forward = PositionwiseFeedForward(d_model, d_ff)\n",
        "    self.norm1 = nn.LayerNorm(d_model)\n",
        "    self.norm2 = nn.LayerNorm(d_model)\n",
        "    self.dropout1 = nn.Dropout(dropout)\n",
        "    self.dropout2 = nn.Dropout(dropout)\n",
        "\n",
        "  def forward(self, x, mask=None):\n",
        "    attention_score, _ = self.self_attn(x, x, x, mask)\n",
        "    x = x + self.dropout1(attention_score)\n",
        "    x = self.norm1(x)\n",
        "    x = x + self.dropout2(self.feed_forward(x))\n",
        "    x = self.norm2(x)\n",
        "    return x"
      ],
      "metadata": {
        "id": "VIRgG80pxMWS"
      },
      "execution_count": 93,
      "outputs": []
    },
    {
      "cell_type": "code",
      "source": [
        "class Encoder(nn.Module):\n",
        "  def __init__(self, d_model, num_heads, d_ff, num_layers, dropout=0.1):\n",
        "    super().__init__()\n",
        "    self.layers = nn.ModuleList([EncoderSublayer(d_model, num_heads, d_ff, dropout) for _ in range(num_layers)])\n",
        "    self.norm = nn.LayerNorm(d_model)\n",
        "\n",
        "  def forward(self, x, mask=None):\n",
        "    for layer in self.layers:\n",
        "      x = layer(x, mask)\n",
        "    return self.norm(x)"
      ],
      "metadata": {
        "id": "0nS2XzNrb0rZ"
      },
      "execution_count": 94,
      "outputs": []
    },
    {
      "cell_type": "code",
      "source": [
        "class DecoderSublayer(nn.Module):\n",
        "  def __init__(self, d_model, num_heads, d_ff, dropout=0.1):\n",
        "    super().__init__()\n",
        "    self.self_attn = MultiHeadAttention(d_model, num_heads)\n",
        "    self.cross_attn = MultiHeadAttention(d_model, num_heads)\n",
        "    self.feed_forward = PositionwiseFeedForward(d_model, d_ff)\n",
        "    self.norm1 = nn.LayerNorm(d_model)\n",
        "    self.norm2 = nn.LayerNorm(d_model)\n",
        "    self.norm3 = nn.LayerNorm(d_model)\n",
        "    self.dropout1 = nn.Dropout(dropout)\n",
        "    self.dropout2 = nn.Dropout(dropout)\n",
        "    self.dropout3 = nn.Dropout(dropout)\n",
        "\n",
        "  def forward(self, x, encoder_output, target_mask=None, encoder_mask=None):\n",
        "    attention_score, _ = self.self_attn(x, x, x, target_mask)\n",
        "    x = x + self.dropout1(attention_score)\n",
        "    x = self.norm1(x)\n",
        "    encoder_attn, _ = self.cross_attn(x, encoder_output, encoder_output, encoder_mask)\n",
        "    x = x + self.dropout2(encoder_attn)\n",
        "    x = self.norm2(x)\n",
        "    ff_output = self.feed_forward(x)\n",
        "    x = x + self.dropout3(ff_output)\n",
        "    x = self.norm3(x)\n",
        "    return x"
      ],
      "metadata": {
        "id": "7pTQMXOgBEMT"
      },
      "execution_count": 95,
      "outputs": []
    },
    {
      "cell_type": "code",
      "source": [
        "class Decoder(nn.Module):\n",
        "    def __init__(self, d_model, num_heads, d_ff, num_layers, dropout=0.1):\n",
        "        super().__init__()\n",
        "        self.layers = nn.ModuleList([DecoderSublayer(d_model, num_heads, d_ff, dropout) for _ in range(num_layers)])\n",
        "        self.norm = nn.LayerNorm(d_model)\n",
        "\n",
        "    def forward(self, x, encoder_output, target_mask, encoder_mask):\n",
        "        for layer in self.layers:\n",
        "            x = layer(x, encoder_output, target_mask, encoder_mask)\n",
        "        return self.norm(x)"
      ],
      "metadata": {
        "id": "GDocu1PGb_B2"
      },
      "execution_count": 96,
      "outputs": []
    },
    {
      "cell_type": "code",
      "source": [
        "class Transformer(nn.Module):\n",
        "  def __init__(self, d_model, num_heads, d_ff, num_layers,\n",
        "               input_vocab_size, target_vocab_size,\n",
        "               max_seq_len=MAX_SEQ_LEN, dropout=0.1):\n",
        "    super().__init__()\n",
        "    self.encoder_embedding = nn.Embedding(input_vocab_size, d_model)\n",
        "    self.decoder_embedding = nn.Embedding(target_vocab_size, d_model)\n",
        "    self.positional_encoding = PositionalEncoding(d_model, max_seq_len)\n",
        "    self.dropout = nn.Dropout(dropout)\n",
        "    self.encoder = Encoder(d_model, num_heads, d_ff, num_layers)\n",
        "    self.decoder = Decoder(d_model, num_heads, d_ff, num_layers)\n",
        "    self.output_layer = nn.Linear(d_model, target_vocab_size)\n",
        "\n",
        "  def mask(self, source, target):\n",
        "        source_mask = (source != 0).unsqueeze(1).unsqueeze(2)\n",
        "        target_mask = (target != 0).unsqueeze(1).unsqueeze(3)\n",
        "        seq_length = target.size(1)\n",
        "        nopeak_mask = torch.tril(torch.ones((1, seq_length, seq_length), device=device)).bool()\n",
        "        target_mask = target_mask & nopeak_mask\n",
        "\n",
        "        print(f\"Source mask shape: {source_mask.shape}\")\n",
        "        print(f\"Target mask shape: {target_mask.shape}\")\n",
        "\n",
        "        return source_mask, target_mask\n",
        "\n",
        "  def forward(self, source, target):\n",
        "        source_mask, target_mask = self.mask(source, target)\n",
        "        source = self.encoder_embedding(source) * math.sqrt(self.encoder_embedding.embedding_dim)\n",
        "        source = self.positional_encoding(source)\n",
        "        source = self.dropout(source)\n",
        "\n",
        "        print(f\"Source shape after embedding: {source.shape}\")\n",
        "\n",
        "        encoder_output = self.encoder(source, source_mask)\n",
        "\n",
        "        print(f\"Encoder output shape: {encoder_output.shape}\")\n",
        "\n",
        "        target = self.decoder_embedding(target) * math.sqrt(self.decoder_embedding.embedding_dim)\n",
        "        target = self.positional_encoding(target)\n",
        "        target = self.dropout(target)\n",
        "\n",
        "        print(f\"Target shape after embedding: {target.shape}\")\n",
        "\n",
        "        output = self.decoder(target, encoder_output, target_mask, source_mask)\n",
        "        output = self.output_layer(output)\n",
        "        return output"
      ],
      "metadata": {
        "id": "v-e7-wkXc8WY"
      },
      "execution_count": 97,
      "outputs": []
    },
    {
      "cell_type": "markdown",
      "source": [
        "## Simple Test"
      ],
      "metadata": {
        "id": "37BcQPYHGaz5"
      }
    },
    {
      "cell_type": "code",
      "source": [
        "seq_len_source = 10\n",
        "seq_len_target = 10\n",
        "batch_size = 4\n",
        "input_vocab_size = 50\n",
        "target_vocab_size = 5\n",
        "\n",
        "source = torch.randint(1, input_vocab_size, (batch_size, seq_len_source))\n",
        "target = torch.randint(1, target_vocab_size, (batch_size, seq_len_target))\n",
        "d_model = 512\n",
        "num_heads = 8\n",
        "d_ff = 2048\n",
        "num_layers = 6\n",
        "\n",
        "model = Transformer(d_model, num_heads, d_ff, num_layers,\n",
        "               input_vocab_size, target_vocab_size,\n",
        "               max_seq_len=MAX_SEQ_LEN, dropout=0.1)\n",
        "\n",
        "model = model.to(device)\n",
        "source = source.to(device)\n",
        "target = target.to(device)\n",
        "\n",
        "output = model(source, target)\n",
        "print(output.shape)"
      ],
      "metadata": {
        "id": "1dtG3VCpEcrv",
        "outputId": "9c3edb67-07c4-4b89-9c53-a792fccb71f6",
        "colab": {
          "base_uri": "https://localhost:8080/"
        }
      },
      "execution_count": 98,
      "outputs": [
        {
          "output_type": "stream",
          "name": "stdout",
          "text": [
            "Source mask shape: torch.Size([4, 1, 1, 10])\n",
            "Target mask shape: torch.Size([4, 1, 10, 10])\n",
            "Source shape after embedding: torch.Size([4, 10, 512])\n",
            "Encoder output shape: torch.Size([4, 10, 512])\n",
            "Target shape after embedding: torch.Size([4, 10, 512])\n",
            "torch.Size([4, 10, 5])\n"
          ]
        }
      ]
    },
    {
      "cell_type": "code",
      "source": [],
      "metadata": {
        "id": "INoGKOwLIXEg"
      },
      "execution_count": 98,
      "outputs": []
    }
  ],
  "metadata": {
    "colab": {
      "name": "Te damos la bienvenida a Colaboratory",
      "provenance": [],
      "include_colab_link": true
    },
    "kernelspec": {
      "display_name": "Python 3",
      "name": "python3"
    }
  },
  "nbformat": 4,
  "nbformat_minor": 0
}